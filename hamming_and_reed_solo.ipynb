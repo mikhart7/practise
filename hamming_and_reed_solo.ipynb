{
  "nbformat": 4,
  "nbformat_minor": 0,
  "metadata": {
    "colab": {
      "provenance": []
    },
    "kernelspec": {
      "name": "python3",
      "display_name": "Python 3"
    },
    "language_info": {
      "name": "python"
    }
  },
  "cells": [
    {
      "cell_type": "code",
      "execution_count": 1,
      "metadata": {
        "colab": {
          "base_uri": "https://localhost:8080/"
        },
        "id": "1CM3YetPgyK-",
        "outputId": "9035e9ab-b453-486c-b540-1f80df93f153"
      },
      "outputs": [
        {
          "output_type": "stream",
          "name": "stdout",
          "text": [
            "Encoded data: 0011001\n",
            "Decoded data: 1001\n"
          ]
        }
      ],
      "source": [
        "def hamming_encode(data):\n",
        "    # Предполагаем, что data - это строка из 4 бит, например, \"1001\"\n",
        "    data = list(map(int, data))\n",
        "    p1 = data[0] ^ data[1] ^ data[3]\n",
        "    p2 = data[0] ^ data[2] ^ data[3]\n",
        "    p3 = data[1] ^ data[2] ^ data[3]\n",
        "    return [p1, p2, data[0], p3, data[1], data[2], data[3]]\n",
        "\n",
        "def hamming_decode(data):\n",
        "    # Предполагаем, что data - это строка из 7 бит, например, \"0111001\"\n",
        "    data = list(map(int, data))\n",
        "    p1 = data[0]\n",
        "    p2 = data[1]\n",
        "    d1 = data[2]\n",
        "    p3 = data[3]\n",
        "    d2 = data[4]\n",
        "    d3 = data[5]\n",
        "    d4 = data[6]\n",
        "    s1 = p1 ^ d1 ^ d2 ^ d4\n",
        "    s2 = p2 ^ d1 ^ d3 ^ d4\n",
        "    s3 = p3 ^ d2 ^ d3 ^ d4\n",
        "    error_position = s1 * 1 + s2 * 2 + s3 * 4\n",
        "    if error_position != 0:\n",
        "        data[error_position - 1] ^= 1\n",
        "    return data[2], data[4], data[5], data[6]\n",
        "\n",
        "data = \"1001\"\n",
        "encoded_data = hamming_encode(data)\n",
        "print(\"Encoded data:\", ''.join(map(str, encoded_data)))\n",
        "\n",
        "# Вводим ошибку для тестирования декодирования\n",
        "encoded_data[3] ^= 1  # Инвертируем один бит для имитации ошибки\n",
        "\n",
        "decoded_data = hamming_decode(encoded_data)\n",
        "print(\"Decoded data:\", ''.join(map(str, decoded_data)))\n"
      ]
    },
    {
      "cell_type": "code",
      "source": [
        "# Установка библиотеки reedsolo\n",
        "!pip install reedsolo\n",
        "\n",
        "# Импорт библиотеки и исключений\n",
        "from reedsolo import RSCodec, ReedSolomonError\n",
        "\n",
        "# Инициализация кода Рида-Соломона с 10 контрольными символами\n",
        "rsc = RSCodec(10)  # 10 контрольных байтов\n",
        "\n",
        "# Исходные данные\n",
        "data = \"Hello, World!\"\n",
        "\n",
        "# Кодирование данных\n",
        "rs_encoded = rsc.encode(data.encode('utf-8'))\n",
        "print(\"Encoded data (RS):\", rs_encoded)\n",
        "\n",
        "# Введение ошибок для тестирования декодирования\n",
        "# Например, изменяем 3-й и 7-й байты\n",
        "rs_encoded = bytearray(rs_encoded)\n",
        "rs_encoded[3] ^= 0xFF\n",
        "rs_encoded[7] ^= 0xFF\n",
        "\n",
        "try:\n",
        "    rs_decoded = rsc.decode(rs_encoded)\n",
        "    # Получаем только декодированные данные из кортежа\n",
        "    decoded_data = rs_decoded[0].decode('utf-8')\n",
        "    print(\"Decoded data:\", decoded_data)\n",
        "except ReedSolomonError as e:\n",
        "    print(\"Error during decoding:\", e)\n"
      ],
      "metadata": {
        "colab": {
          "base_uri": "https://localhost:8080/"
        },
        "id": "WT3VR_3Ojy2m",
        "outputId": "bf4b5a8b-679e-4be3-b989-bde9eb0cbf7f"
      },
      "execution_count": 8,
      "outputs": [
        {
          "output_type": "stream",
          "name": "stdout",
          "text": [
            "Requirement already satisfied: reedsolo in /usr/local/lib/python3.10/dist-packages (1.7.0)\n",
            "Encoded data (RS): bytearray(b'Hello, World!\\xac\\x16\\xcc-\\xd7\\x99\\xe3<\\xbfX')\n",
            "Decoded data: Hello, World!\n"
          ]
        }
      ]
    },
    {
      "cell_type": "code",
      "source": [
        "# Установка библиотеки reedsolo\n",
        "\n",
        "\n",
        "# Импорт необходимых модулей\n",
        "from reedsolo import RSCodec, ReedSolomonError\n",
        "\n",
        "# Инициализация кода Рида-Соломона\n",
        "rsc = RSCodec(10)  # 10 контрольных байтов\n",
        "\n",
        "def hamming_encode(data):\n",
        "    # Реализация кода Хэмминга\n",
        "    data = list(map(int, data))\n",
        "    p1 = data[0] ^ data[1] ^ data[3]\n",
        "    p2 = data[0] ^ data[2] ^ data[3]\n",
        "    p3 = data[1] ^ data[2] ^ data[3]\n",
        "    return [p1, p2, data[0], p3, data[1], data[2], data[3]]\n",
        "\n",
        "def hamming_decode(data):\n",
        "    # Реализация декодирования кода Хэмминга\n",
        "    data = list(map(int, data))\n",
        "    p1 = data[0]\n",
        "    p2 = data[1]\n",
        "    d1 = data[2]\n",
        "    p3 = data[3]\n",
        "    d2 = data[4]\n",
        "    d3 = data[5]\n",
        "    d4 = data[6]\n",
        "    s1 = p1 ^ d1 ^ d2 ^ d4\n",
        "    s2 = p2 ^ d1 ^ d3 ^ d4\n",
        "    s3 = p3 ^ d2 ^ d3 ^ d4\n",
        "    error_position = s1 * 1 + s2 * 2 + s3 * 4\n",
        "    if error_position != 0:\n",
        "        data[error_position - 1] ^= 1\n",
        "    return [data[2], data[4], data[5], data[6]]\n",
        "\n",
        "def cascade_encode(data):\n",
        "    # Каскадное кодирование\n",
        "    rs_encoded = rsc.encode(data.encode('utf-8'))  # Кодирование Рида-Соломона\n",
        "    hamming_encoded = []  # Кодирование Хэмминга\n",
        "    for byte in rs_encoded:\n",
        "        hamming_encoded.extend(hamming_encode(f\"{byte:08b}\"))\n",
        "    return hamming_encoded\n",
        "\n",
        "# Пример данных\n",
        "data = \"Hello, World!\"\n",
        "\n",
        "# Кодирование данных\n",
        "encoded_data = cascade_encode(data)\n",
        "print(\"Encoded data (RS + Hamming):\", ''.join(map(str, encoded_data)))"
      ],
      "metadata": {
        "colab": {
          "base_uri": "https://localhost:8080/"
        },
        "id": "V16_LrPemZVc",
        "outputId": "3c093f52-65b2-4337-991f-a473fe6479a5"
      },
      "execution_count": 22,
      "outputs": [
        {
          "output_type": "stream",
          "name": "stdout",
          "text": [
            "Encoded data (RS + Hamming): 10011001100110110011011001101100110010101001010100100101110011000011111100110110011001010101011010110100101111000101010101010100110010010110100001101100110100101\n"
          ]
        }
      ]
    }
  ]
}